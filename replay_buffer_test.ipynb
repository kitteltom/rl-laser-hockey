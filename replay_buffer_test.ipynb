{
 "cells": [
  {
   "cell_type": "code",
   "execution_count": 1,
   "metadata": {},
   "outputs": [],
   "source": [
    "import numpy as np\n",
    "import matplotlib.pyplot as plt\n",
    "import torch\n",
    "\n",
    "from sum_tree import SumTree\n",
    "from replay_buffer import ReplayBuffer as RB, PrioritizedReplayBuffer as PRB"
   ]
  },
  {
   "cell_type": "code",
   "execution_count": 2,
   "metadata": {},
   "outputs": [],
   "source": [
    "# Create instances of the uniform replay buffer and the prioritized replay buffer\n",
    "t = 10000\n",
    "rb = RB(state_dim=1, action_dim=1, max_size=40)\n",
    "prb = PRB(\n",
    "    state_dim=1, \n",
    "    action_dim=1, \n",
    "    max_size=40, \n",
    "    total_t=t, \n",
    "    alpha=0.6, \n",
    "    beta=0.4, \n",
    "    beta_schedule=\"annealing\"\n",
    ")"
   ]
  },
  {
   "cell_type": "code",
   "execution_count": 3,
   "metadata": {},
   "outputs": [
    {
     "name": "stdout",
     "output_type": "stream",
     "text": [
      "[17  5 11 26  8  6 16 29 13 24 22 28  4  7 21  3 12  9 27  1 18 10 20 23\n",
      " 25  2 15 19 14 30]\n"
     ]
    }
   ],
   "source": [
    "# Some experience, where the value also reflects the priority\n",
    "priorities = np.arange(1, 30 + 1)\n",
    "np.random.shuffle(priorities)\n",
    "print(priorities)"
   ]
  },
  {
   "cell_type": "code",
   "execution_count": 4,
   "metadata": {},
   "outputs": [],
   "source": [
    "# Add all the experience to both buffers\n",
    "for i, p in enumerate(priorities):\n",
    "    rb.add(p, p, p, p, p)\n",
    "    prb.add(p, p, p, p, p)"
   ]
  },
  {
   "cell_type": "code",
   "execution_count": 5,
   "metadata": {},
   "outputs": [
    {
     "name": "stdout",
     "output_type": "stream",
     "text": [
      " -> Current maximal priority in the replay buffer: 5.080\n",
      " -> Current maximal priority in the replay buffer: 5.853\n",
      " -> Current maximal priority in the replay buffer: 7.543\n",
      " -> Current maximal priority in the replay buffer: 7.698\n"
     ]
    }
   ],
   "source": [
    "# Simulate sampling from both buffers\n",
    "samples_uniform = []\n",
    "samples_prioritized = []\n",
    "w_is = []\n",
    "batch_size = 5\n",
    "\n",
    "for i in range(t):\n",
    "    # Add samples (5 per batch)\n",
    "    samples_uniform.append(rb.sample(batch_size)[0].cpu().data.numpy().flatten())\n",
    "    \n",
    "    batch, indices, importance_weights = prb.sample(batch_size)\n",
    "    \n",
    "    batch = batch[0].cpu().data.numpy().flatten()\n",
    "    samples_prioritized.append(batch)\n",
    "    w_is.append(importance_weights.cpu().data.numpy().flatten())\n",
    "    \n",
    "    # Update the priorities with their actual value (priority)\n",
    "    for i in range(batch_size):\n",
    "        prb.update(indices[i], batch[i])\n",
    "        \n",
    "samples_uniform = np.asarray(samples_uniform).flatten()\n",
    "samples_prioritized = np.asarray(samples_prioritized).flatten()\n",
    "w_is = np.asarray(w_is).flatten()"
   ]
  },
  {
   "cell_type": "code",
   "execution_count": 6,
   "metadata": {},
   "outputs": [],
   "source": [
    "# Make sure the sample sizes are correct\n",
    "assert(samples_uniform.shape[0] == batch_size * t)\n",
    "assert(samples_prioritized.shape[0] == batch_size * t)\n",
    "assert(w_is.shape[0] == batch_size * t)"
   ]
  },
  {
   "cell_type": "code",
   "execution_count": 7,
   "metadata": {},
   "outputs": [
    {
     "data": {
      "image/png": "[encoded data removed]",
      "text/plain": [
       "<Figure size 432x288 with 1 Axes>"
      ]
     },
     "metadata": {
      "needs_background": "light"
     },
     "output_type": "display_data"
    },
    {
     "data": {
      "image/png": "[encoded data removed]",
      "text/plain": [
       "<Figure size 432x288 with 1 Axes>"
      ]
     },
     "metadata": {
      "needs_background": "light"
     },
     "output_type": "display_data"
    },
    {
     "data": {
      "image/png": "[encoded data removed]",
      "text/plain": [
       "<Figure size 432x288 with 1 Axes>"
      ]
     },
     "metadata": {
      "needs_background": "light"
     },
     "output_type": "display_data"
    }
   ],
   "source": [
    "# Samples from rb should be uniform\n",
    "plt.hist(samples_uniform, bins=30)\n",
    "plt.show()\n",
    "\n",
    "# Samples from prb should be monotonically rising\n",
    "plt.hist(samples_prioritized, bins=30)\n",
    "plt.show()\n",
    "\n",
    "# The importance weights should be lower than 1 and have an annealing behaviour\n",
    "plt.plot(w_is)\n",
    "plt.show()"
   ]
  },
  {
   "cell_type": "code",
   "execution_count": null,
   "metadata": {},
   "outputs": [],
   "source": []
  },
  {
   "cell_type": "code",
   "execution_count": null,
   "metadata": {},
   "outputs": [],
   "source": []
  },
  {
   "cell_type": "code",
   "execution_count": null,
   "metadata": {},
   "outputs": [],
   "source": []
  }
 ],
 "metadata": {
  "kernelspec": {
   "display_name": "Python 3",
   "language": "python",
   "name": "python3"
  },
  "language_info": {
   "codemirror_mode": {
    "name": "ipython",
    "version": 3
   },
   "file_extension": ".py",
   "mimetype": "text/x-python",
   "name": "python",
   "nbconvert_exporter": "python",
   "pygments_lexer": "ipython3",
   "version": "3.7.9"
  }
 },
 "nbformat": 4,
 "nbformat_minor": 4
}
