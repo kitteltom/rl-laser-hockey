{
 "cells": [
  {
   "cell_type": "code",
   "execution_count": 1,
   "metadata": {},
   "outputs": [],
   "source": [
    "import numpy as np\n",
    "import laserhockey.hockey_env as h_env\n",
    "from TD3 import TD3"
   ]
  },
  {
   "cell_type": "code",
   "execution_count": 2,
   "metadata": {},
   "outputs": [],
   "source": [
    "# Create the environment\n",
    "env = h_env.HockeyEnv(mode=h_env.HockeyEnv.NORMAL)\n",
    "\n",
    "# Basic opponents\n",
    "weak_basic_opponent = h_env.BasicOpponent(weak=True).act\n",
    "strong_basic_opponent = h_env.BasicOpponent(weak=False).act\n",
    "\n",
    "# Rollout function\n",
    "def rollout(p1, p2, num_games=10, render=False):\n",
    "    counter = np.zeros(3)\n",
    "    \n",
    "    for _ in range(num_games):\n",
    "        state_l, done = env.reset(), False\n",
    "        state_r = env.obs_agent_two()\n",
    "        while not done:\n",
    "            if render:\n",
    "                env.render()\n",
    "            action_l = p1(state_l)\n",
    "            action_r = p2(state_r)\n",
    "            state_l, _, done, info = env.step(np.hstack([action_l, action_r]))\n",
    "            state_r = env.obs_agent_two()\n",
    "        counter[info[\"winner\"] + 1] += 1\n",
    "    env.close()\n",
    "    \n",
    "    wins = counter[2]\n",
    "    defeats = counter[0]\n",
    "    draws = counter[1]\n",
    "    \n",
    "    return wins, defeats, draws"
   ]
  },
  {
   "cell_type": "code",
   "execution_count": 3,
   "metadata": {},
   "outputs": [],
   "source": [
    "# TD3 agents\n",
    "def get_TD3_policy(name):\n",
    "    policy = TD3(state_dim=18, action_dim=4, hidden_dim=256, max_action=1.0, normalize_obs=True)\n",
    "    policy.load(f\"./models/{name}\")\n",
    "    return policy.act\n",
    "\n",
    "TD3_policy = get_TD3_policy('TD3')\n",
    "SP_TD3_policy = get_TD3_policy('SP-TD3')\n",
    "aSP_TD3_policy = get_TD3_policy('aSP-TD3')"
   ]
  },
  {
   "cell_type": "markdown",
   "metadata": {},
   "source": [
    "### Select the players:"
   ]
  },
  {
   "cell_type": "code",
   "execution_count": 4,
   "metadata": {},
   "outputs": [],
   "source": [
    "p1 = SP_TD3_policy\n",
    "p2 = strong_basic_opponent"
   ]
  },
  {
   "cell_type": "markdown",
   "metadata": {},
   "source": [
    "### Observe some games:"
   ]
  },
  {
   "cell_type": "code",
   "execution_count": 5,
   "metadata": {},
   "outputs": [
    {
     "data": {
      "text/plain": [
       "(10.0, 0.0, 0.0)"
      ]
     },
     "execution_count": 5,
     "metadata": {},
     "output_type": "execute_result"
    }
   ],
   "source": [
    "import time\n",
    "time.sleep(5)\n",
    "rollout(p1, p2, render=True)"
   ]
  },
  {
   "cell_type": "markdown",
   "metadata": {},
   "source": [
    "### Print the win-rate:"
   ]
  },
  {
   "cell_type": "code",
   "execution_count": 6,
   "metadata": {},
   "outputs": [
    {
     "name": "stdout",
     "output_type": "stream",
     "text": [
      "# Games:        100\n",
      "-------------------\n",
      "# Wins:          98\n",
      "# Defeats:        1\n",
      "# Ties:           1\n",
      "-------------------\n",
      "=> (0.98/0.01/0.01)\n"
     ]
    }
   ],
   "source": [
    "num_games = 100\n",
    "wins, defeats, draws = rollout(p1, p2, num_games)\n",
    "print(\n",
    "    f'# Games:   {num_games:8d}\\n' +\n",
    "    f'-------------------\\n' +\n",
    "    f'# Wins:    {int(wins):8d}\\n' + \n",
    "    f'# Defeats: {int(defeats):8d}\\n' +\n",
    "    f'# Ties:    {int(draws):8d}\\n' +\n",
    "    f'-------------------\\n' +\n",
    "    f'=> ({wins/num_games:.2f}/{defeats/num_games:.2f}/{draws/num_games:.2f})'\n",
    ")"
   ]
  },
  {
   "cell_type": "code",
   "execution_count": null,
   "metadata": {},
   "outputs": [],
   "source": []
  }
 ],
 "metadata": {
  "kernelspec": {
   "display_name": "Python 3",
   "language": "python",
   "name": "python3"
  },
  "language_info": {
   "codemirror_mode": {
    "name": "ipython",
    "version": 3
   },
   "file_extension": ".py",
   "mimetype": "text/x-python",
   "name": "python",
   "nbconvert_exporter": "python",
   "pygments_lexer": "ipython3",
   "version": "3.7.9"
  }
 },
 "nbformat": 4,
 "nbformat_minor": 4
}
